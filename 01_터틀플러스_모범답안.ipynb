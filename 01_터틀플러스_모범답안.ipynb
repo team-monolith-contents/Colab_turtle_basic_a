{
 "cells": [
  {
   "cell_type": "markdown",
   "metadata": {
    "deletable": false,
    "editable": false
   },
   "source": [
    "<div style=\"padding: 15px; border: 5px solid transparent; border-color: transparent; margin-bottom: 20px; border-radius: 4px; color: #3c763d; background-color: #dff0d8; border-color: #d6e9c6; font-weight: bold;\">\n",
    "    <br><br>\n",
    "    <div style=\"font-weight: bold; font-size: 40px\">터틀 플러스</div>\n",
    "    <div style=\"font-weight: bold; font-size: 20px\">[01] 거북이로 그림그리기</div>\n",
    "    <hr style=\"width:80%;text-align:left;margin-left:0;border:0.5px solid green\">\n",
    "    <br>\n",
    "    &#x2022; 터틀 라이브러리를 불러올 수 있다. <br>\n",
    "    &#x2022; 터틀 객체를 생성하고 이동시킬 수 있다.<br>\n",
    "    &#x2022; 터틀을 이용해 원하는 그림을 그릴 수 있다.<br>\n",
    "</div>"
   ]
  },
  {
   "cell_type": "markdown",
   "metadata": {
    "deletable": false,
    "editable": false,
    "tags": []
   },
   "source": [
    "<div style=\"padding: 15px; border: 5px solid transparent; border-color: transparent; margin-bottom: 20px; border-radius: 4px; color: #3c763d; border-color: #d6e9c6; font-weight: bold;\">\n",
    "<h2 style='font-weight: bold'>1. 터틀 라이브러리 불러오기</h2>\n",
    "</div>"
   ]
  },
  {
   "cell_type": "markdown",
   "metadata": {
    "deletable": false,
    "editable": false
   },
   "source": [
    "터틀(turtle)은 파이썬에서 그림을 그릴 수 있는 그래픽 모듈이에요. \n",
    "\n",
    "터틀 모듈을 사용하면 아래처럼 화려한 그림을 그릴 수 있어요. 링크를 클릭하고 영상에서 다양한 그래픽을 확인해보세요.\n"
   ]
  },
  {
   "cell_type": "markdown",
   "metadata": {},
   "source": [
    "<table>\n",
    "<tr>\n",
    "    <th><img src=\"https://tmn-bucket-materials-all.s3.ap-northeast-2.amazonaws.com/image/algo/tp_1_1.png\" width=\"500\"></th>\n",
    "    </tr>\n",
    "<tr>\n",
    "    <th>터틀 모듈 활용 예시</th>\n",
    "</tr>\n",
    "</table>\n",
    "\n",
    "<a href=\"https://www.youtube.com/watch?v=DL_p4FiLWAQ\"><button style=\"width:100px; height:50px\">터틀 영상 링크</button></a>\n",
    "\n",
    "\n",
    "\n",
    "\n"
   ]
  },
  {
   "cell_type": "markdown",
   "metadata": {
    "deletable": false,
    "editable": false,
    "id": "pj47POTQqpWo"
   },
   "source": [
    "먼저 터틀 패키지를 설치해요. \n",
    "\n",
    "ColabTurtlePlus는 웹브라우저에서 터틀 그래픽을 사용할 수 있도록 도와주는 라이브러리에요. \n",
    "\n",
    "Google Colab, Jupyter Lab 노트북에서 사용할 수 있습니다. \n",
    "\n"
   ]
  },
  {
   "cell_type": "code",
   "execution_count": null,
   "metadata": {
    "codle/previous_execution": {
     "code": "# 터틀 모듈을 설치합니다. \n!pip3 install ColabTurtlePlus",
     "id": "3059159"
    },
    "tags": []
   },
   "outputs": [],
   "source": [
    "# 터틀 모듈을 설치합니다. \n",
    "!pip3 install ColabTurtlePlus"
   ]
  },
  {
   "cell_type": "markdown",
   "metadata": {},
   "source": [
    "import를 사용해서 터틀 라이브러리를 불러옵니다. \n",
    "\n"
   ]
  },
  {
   "cell_type": "code",
   "execution_count": null,
   "metadata": {
    "codle/previous_execution": {
     "code": "# turtle 라이브러리를 불러옵니다. \nfrom ColabTurtlePlus.Turtle import *",
     "id": "3299719"
    },
    "tags": []
   },
   "outputs": [],
   "source": [
    "# turtle 라이브러리를 불러옵니다. \n",
    "from ColabTurtlePlus.Turtle import *"
   ]
  },
  {
   "cell_type": "markdown",
   "metadata": {},
   "source": [
    "<div style=\"padding: 15px; border: 5px solid transparent; border-color: transparent; margin-bottom: 20px; border-radius: 4px; color: #3c763d; border-color: #d6e9c6; font-weight: bold;\">\n",
    "<h2 style='font-weight: bold'>2. 터틀 객체 생성하기</h2>\n",
    "</div>"
   ]
  },
  {
   "cell_type": "markdown",
   "metadata": {},
   "source": [
    "그림을 그려줄 거북이를 만들어보세요. \n",
    "\n",
    "거북이 모양을 아래처럼 설정해보세요. \n",
    "\n",
    "\n",
    "\n",
    "|shape 유형|모양|\n",
    "|---|---|\n",
    "|classic|<img src=\"https://tmn-bucket-materials-all.s3.ap-northeast-2.amazonaws.com/image/algo/tp_1_2.png\" width=\"100\">|\n",
    "|arrow|<img src=\"https://tmn-bucket-materials-all.s3.ap-northeast-2.amazonaws.com/image/algo/tp_1_3.png\" width=\"100\">|\n",
    "|circle|<img src=\"https://tmn-bucket-materials-all.s3.ap-northeast-2.amazonaws.com/image/algo/tp_1_4.png\" width=\"100\">|\n",
    "|square|<img src=\"https://tmn-bucket-materials-all.s3.ap-northeast-2.amazonaws.com/image/algo/tp_1_5.png\" width=\"100\">|\n",
    "|turtle|<img src=\"https://tmn-bucket-materials-all.s3.ap-northeast-2.amazonaws.com/image/algo/tp_1_6.png\" width=\"100\">|"
   ]
  },
  {
   "cell_type": "code",
   "execution_count": null,
   "metadata": {
    "codle/previous_execution": {
     "code": "# turtleScreen을 초기 상태(흰색 배경, 배경 이미지 없음)로 설정합니다. \nclearscreen()\n# turtleScreen의 크기를 설정할 수 있습니다. setup(width=픽셀, height=픽셀)\nsetup(300, 300)\n\n# 그림을 그려줄 거북이를 생성합니다. \nt = Turtle()\n\n# 거북이의 모양을 바꿔요. \nt.shape('turtle')",
     "id": "3059206"
    },
    "tags": []
   },
   "outputs": [],
   "source": [
    "# turtleScreen을 초기 상태(흰색 배경, 배경 이미지 없음)로 설정합니다. \n",
    "clearscreen()\n",
    "# turtleScreen의 크기를 설정할 수 있습니다. setup(width=픽셀, height=픽셀)\n",
    "setup(300, 300)\n",
    "\n",
    "# 그림을 그려줄 거북이를 생성합니다. \n",
    "t = Turtle()\n",
    "\n",
    "# 거북이의 모양을 바꿔요. \n",
    "t.shape('turtle')"
   ]
  },
  {
   "cell_type": "markdown",
   "metadata": {
    "tags": []
   },
   "source": [
    "<div style=\"padding: 15px; border: 5px solid transparent; border-color: transparent; margin-bottom: 20px; border-radius: 4px; color: #3c763d; border-color: #d6e9c6; font-weight: bold;\">\n",
    "<h2 style='font-weight: bold'>3. 터틀 이동하기</h2>\n",
    "</div>"
   ]
  },
  {
   "cell_type": "markdown",
   "metadata": {},
   "source": [
    "터틀을 이용해서 아래와 같은 그림을 그려봅시다. 어떤 동작이 필요할까요?\n",
    "\n",
    "<table>\n",
    "<tr>\n",
    "    <th><img src=\"https://tmn-bucket-materials-all.s3.ap-northeast-2.amazonaws.com/image/algo/tp_1_7.gif\" width=\"500\"></th>\n",
    "    </tr>\n",
    "<tr>\n",
    "    <th>터틀 이동</th>\n",
    "</tr>\n",
    "</table>\n"
   ]
  },
  {
   "cell_type": "markdown",
   "metadata": {
    "tags": []
   },
   "source": [
    "\n",
    "\n",
    "\n"
   ]
  },
  {
   "cell_type": "markdown",
   "metadata": {},
   "source": [
    "터틀이 앞으로 이동하고 왼쪽으로 회전해요. 아래는 터틀을 이동시킬 수 있는 함수입니다.  \n",
    "아래 함수를 이용해서 위 그림처럼 터틀을 움직이는 코드를 만들어보세요. \n",
    "\n",
    "|터틀 메소드|기능|\n",
    "|---|---|\n",
    "|t.<span style='color:green'>forward</span>(n)|n 픽셀만큼 전진|\n",
    "|t.<span style='color:green'>backward</span>(n)|n 픽셀만큼 후진|\n",
    "|t.<span style='color:green'>left</span>(n)|n도 만큼 왼쪽으로 회전|\n",
    "|t.<span style='color:green'>right</span>(n)|n도 만큼 오른쪽으로 회전|\n"
   ]
  },
  {
   "cell_type": "code",
   "execution_count": null,
   "metadata": {
    "codle/previous_execution": {
     "code": "# turtleScreen을 초기 상태(흰색 배경, 배경 이미지 없음)로 설정합니다. \nclearscreen()\n# turtleScreen의 크기를 설정할 수 있습니다. setup(width=픽셀, height=픽셀)\nsetup(300, 300)\n\n# 그림을 그려줄 거북이를 생성합니다. \nt = Turtle()\n\n# 거북이의 모양을 바꿔요. \nt.shape('turtle')\n\n### 여기에 코드를 작성하세요. ###\nfor i in range(3):\n    t.forward(100)\n    t.left(120)\n###############################\n",
     "id": "3059222"
    },
    "tags": []
   },
   "outputs": [],
   "source": [
    "# turtleScreen을 초기 상태(흰색 배경, 배경 이미지 없음)로 설정합니다. \n",
    "clearscreen()\n",
    "# turtleScreen의 크기를 설정할 수 있습니다. setup(width=픽셀, height=픽셀)\n",
    "setup(300, 300)\n",
    "\n",
    "# 그림을 그려줄 거북이를 생성합니다. \n",
    "t = Turtle()\n",
    "\n",
    "# 거북이의 모양을 바꿔요. \n",
    "t.shape('turtle')\n",
    "\n",
    "### 여기에 코드를 작성하세요. ###\n",
    "for i in range(3):\n",
    "    t.forward(100)\n",
    "    t.left(120)\n",
    "###############################\n"
   ]
  },
  {
   "cell_type": "markdown",
   "metadata": {},
   "source": [
    "터틀은 원을 그릴 수 있어요.  원의 크기를 조절해보세요. \n",
    "\n",
    "창의 좁으면 setup()함수에서 스크린의 크기를 조절할 수 있어요. \n",
    "\n",
    "|터틀 메소드|기능|\n",
    "|---|---|\n",
    "|t.<span style='color:green'>circle</span>(n)|반지름 n 픽셀 크기의 원을 그릴 수 있어요.|\n",
    "|t.<span style='color:green'>circle</span>(n, extent=m)|extent 매개변수로 호의 길이를 지정할 수 있습니다.  |\n"
   ]
  },
  {
   "cell_type": "code",
   "execution_count": null,
   "metadata": {
    "codle/previous_execution": {
     "code": "# turtleScreen을 초기 상태(흰색 배경, 배경 이미지 없음)로 설정합니다. \nclearscreen()\n# turtleScreen의 크기를 설정할 수 있습니다. setup(width=픽셀, height=픽셀)\nsetup(300, 300)\n\n# 그림을 그려줄 거북이를 생성합니다. \nt = Turtle()\n\n# 거북이의 모양을 바꿔요. \nt.shape('turtle')\n\nt.circle(50)",
     "id": "3298257"
    },
    "tags": []
   },
   "outputs": [],
   "source": [
    "# turtleScreen을 초기 상태(흰색 배경, 배경 이미지 없음)로 설정합니다. \n",
    "clearscreen()\n",
    "# turtleScreen의 크기를 설정할 수 있습니다. setup(width=픽셀, height=픽셀)\n",
    "setup(300, 300)\n",
    "\n",
    "# 그림을 그려줄 거북이를 생성합니다. \n",
    "t = Turtle()\n",
    "\n",
    "# 거북이의 모양을 바꿔요. \n",
    "t.shape('turtle')\n",
    "\n",
    "t.circle(50)"
   ]
  },
  {
   "cell_type": "markdown",
   "metadata": {},
   "source": [
    "<div style=\"padding: 15px; border: 5px solid transparent; border-color: transparent; margin-bottom: 20px; border-radius: 4px; color: #3c763d; border-color: #d6e9c6; font-weight: bold;\">\n",
    "<h2 style='font-weight: bold'>4. 다각형 그리기</h2>\n",
    "</div>"
   ]
  },
  {
   "cell_type": "markdown",
   "metadata": {},
   "source": [
    "다양한 다각형을 그려봅시다. \n",
    "\n",
    "<table>\n",
    "<tr>\n",
    "    <th><img src=\"https://tmn-bucket-materials-all.s3.ap-northeast-2.amazonaws.com/image/algo/tp_1_8.png\" width=\"500\"></th>\n",
    "    </tr>\n",
    "<tr>\n",
    "    <th>다양한 다각형</th>\n",
    "</tr>\n",
    "</table>\n",
    "\n",
    "다각형을 그릴 때, 몇 도씩 회전해야 할까요?\n",
    "\n",
    "반복 횟수와 회전각을 확인한 후 아래에서 코드를 수정하여 다양한 다각형을 그려보세요.\n",
    "\n",
    "<table>\n",
    "<tr>\n",
    "    <th><img src=\"https://tmn-bucket-materials-all.s3.ap-northeast-2.amazonaws.com/image/algo/tp_1_9.png\" width=\"500\"></th>\n",
    "    </tr>\n",
    "<tr>\n",
    "    <th>회전각</th>\n",
    "</tr>\n",
    "</table>"
   ]
  },
  {
   "cell_type": "code",
   "execution_count": null,
   "metadata": {
    "codle/previous_execution": {
     "code": "# turtleScreen을 초기 상태(흰색 배경, 배경 이미지 없음)로 설정합니다. \nclearscreen()\n# turtleScreen의 크기를 설정할 수 있습니다. setup(width=픽셀, height=픽셀)\nsetup(500, 500)\n\n# 그림을 그려줄 거북이를 생성합니다. \nt = Turtle()\n\n# 거북이의 모양을 바꿔요. \nt.shape('turtle')\n\n# 정사각형\nfor i in range(4):     # 변의 갯수만큼 반복해요.\n    t.forward(100)\n    t.left(90)         # 360/4도 만큼 왼쪽으로 회전해요.",
     "id": "3298531"
    },
    "tags": []
   },
   "outputs": [],
   "source": [
    "# turtleScreen을 초기 상태(흰색 배경, 배경 이미지 없음)로 설정합니다. \n",
    "clearscreen()\n",
    "# turtleScreen의 크기를 설정할 수 있습니다. setup(width=픽셀, height=픽셀)\n",
    "setup(500, 500)\n",
    "\n",
    "# 그림을 그려줄 거북이를 생성합니다. \n",
    "t = Turtle()\n",
    "\n",
    "# 거북이의 모양을 바꿔요. \n",
    "t.shape('turtle')\n",
    "\n",
    "# 정사각형\n",
    "for i in range(4):     # 변의 갯수만큼 반복해요.\n",
    "    t.forward(100)\n",
    "    t.left(90)         # 360/4도 만큼 왼쪽으로 회전해요."
   ]
  },
  {
   "cell_type": "markdown",
   "metadata": {},
   "source": [
    "<div style=\"padding: 15px; border: 5px solid transparent; border-color: transparent; margin-bottom: 20px; border-radius: 4px; color: #3c763d; border-color: #d6e9c6; font-weight: bold;\">\n",
    "<h2 style='font-weight: bold'>5. 입력 받아서 다각형 그리기</h2>\n",
    "</div>"
   ]
  },
  {
   "cell_type": "markdown",
   "metadata": {},
   "source": [
    "어떤 다각형을 그릴 지 값을 입력받고, 입력받은 값에 따라 다각형을 그려봅시다. "
   ]
  },
  {
   "cell_type": "code",
   "execution_count": null,
   "metadata": {
    "codle/previous_execution": {
     "code": "# turtleScreen을 초기 상태(흰색 배경, 배경 이미지 없음)로 설정합니다. \nclearscreen()\n# turtleScreen의 크기를 설정할 수 있습니다. setup(width=픽셀, height=픽셀)\nsetup(300, 300)\n\n# 그림을 그려줄 거북이를 생성합니다. \nt = Turtle()\n\n# 거북이의 모양을 바꿔요. \nt.shape('turtle')\n\n# 그리고 싶은 다각형 숫자를 입력받아요. \nn = int(input())\n\n# 입력받은 다각형을 그려요. \nfor i in range(n):\n    t.forward(50)\n    t.left(360/n)",
     "id": "3059265"
    },
    "tags": []
   },
   "outputs": [],
   "source": [
    "# turtleScreen을 초기 상태(흰색 배경, 배경 이미지 없음)로 설정합니다. \n",
    "clearscreen()\n",
    "# turtleScreen의 크기를 설정할 수 있습니다. setup(width=픽셀, height=픽셀)\n",
    "setup(300, 300)\n",
    "\n",
    "# 그림을 그려줄 거북이를 생성합니다. \n",
    "t = Turtle()\n",
    "\n",
    "# 거북이의 모양을 바꿔요. \n",
    "t.shape('turtle')\n",
    "\n",
    "### 여기에 코드를 작성하세요. ###\n",
    "\n",
    "# 그리고 싶은 다각형 숫자를 입력받아요. \n",
    "n = int(input())\n",
    "\n",
    "# 입력받은 다각형을 그려요. \n",
    "for i in range(n):\n",
    "    t.forward(50)\n",
    "    t.left(360/n)\n",
    "    \n",
    "###############################"
   ]
  },
  {
   "cell_type": "markdown",
   "metadata": {},
   "source": [
    "<div style=\"padding: 15px; border: 5px solid transparent; border-color: transparent; margin-bottom: 20px; border-radius: 4px; color: #3c763d; border-color: #d6e9c6; font-weight: bold;\">\n",
    "<h2 style='font-weight: bold'>6. 다양한 다각형 그리기</h2>\n",
    "</div>"
   ]
  },
  {
   "cell_type": "markdown",
   "metadata": {},
   "source": [
    "아래와 같은 그림을 그려보세요. "
   ]
  },
  {
   "cell_type": "markdown",
   "metadata": {},
   "source": [
    "<table>\n",
    "<tr>\n",
    "    <th><img src=\"https://tmn-bucket-materials-all.s3.ap-northeast-2.amazonaws.com/image/algo/tp_1_10.png\" width=\"300\"></th>\n",
    "    </tr>\n",
    "<tr>\n",
    "    <th>다양한 다각형</th>\n",
    "</tr>\n",
    "</table>"
   ]
  },
  {
   "cell_type": "code",
   "execution_count": null,
   "metadata": {
    "codle/previous_execution": {
     "code": "# turtleScreen을 초기 상태(흰색 배경, 배경 이미지 없음)로 설정합니다. \nclearscreen()\n# turtleScreen의 크기를 설정할 수 있습니다. setup(width=픽셀, height=픽셀)\nsetup(500, 500)\n\n# 그림을 그려줄 거북이를 생성합니다. \nt = Turtle()\n\n# 거북이의 모양을 바꿔요. \nt.shape('turtle')\n\nfor i in range(8):\n    for j in range(4):\n        t.forward(100)\n        t.left(90)\n    t.left(45)",
     "id": "3298903"
    },
    "tags": []
   },
   "outputs": [],
   "source": [
    "# turtleScreen을 초기 상태(흰색 배경, 배경 이미지 없음)로 설정합니다. \n",
    "clearscreen()\n",
    "# turtleScreen의 크기를 설정할 수 있습니다. setup(width=픽셀, height=픽셀)\n",
    "setup(500, 500)\n",
    "\n",
    "# 그림을 그려줄 거북이를 생성합니다. \n",
    "t = Turtle()\n",
    "\n",
    "# 거북이의 모양을 바꿔요. \n",
    "t.shape('turtle')\n",
    "\n",
    "for i in range(8):\n",
    "    for j in range(4):\n",
    "        t.forward(100)\n",
    "        t.left(90)\n",
    "    t.left(45)"
   ]
  },
  {
   "cell_type": "markdown",
   "metadata": {},
   "source": [
    "<div style=\"padding: 15px; border: 5px solid transparent; border-color: transparent; margin-bottom: 20px; border-radius: 4px; color: #8a6d3b;  border-color: #faebcc; font-weight: bold;\">\n",
    "    <div style=\"font-weight: bold; font-size: 20px\">✏️ [연습문제1]</div>\n",
    "    <br>\n",
    "아래와 같은 그림을 그려보세요.\n",
    "</div>"
   ]
  },
  {
   "cell_type": "markdown",
   "metadata": {},
   "source": [
    "<table>\n",
    "<tr>\n",
    "    <th><img src=\"https://tmn-bucket-materials-all.s3.ap-northeast-2.amazonaws.com/image/algo/tp_1_11.png\" width=\"300\"></th>\n",
    "    </tr>\n",
    "<tr>\n",
    "    <th>다양한 다각형</th>\n",
    "</tr>\n",
    "</table>"
   ]
  },
  {
   "cell_type": "code",
   "execution_count": null,
   "metadata": {
    "codle/previous_execution": {
     "code": "# turtleScreen을 초기 상태(흰색 배경, 배경 이미지 없음)로 설정합니다. \nclearscreen()\n# turtleScreen의 크기를 설정할 수 있습니다. setup(width=픽셀, height=픽셀)\nsetup(500, 500)\n\n# 그림을 그려줄 거북이를 생성합니다. \nt = Turtle()\n\n# 거북이의 모양을 바꿔요. \nt.shape('turtle')\n\nfor i in range(20):\n    t.forward(10*i)\n    t.left(90)\n\n",
     "id": "3059271"
    },
    "tags": []
   },
   "outputs": [],
   "source": [
    "# turtleScreen을 초기 상태(흰색 배경, 배경 이미지 없음)로 설정합니다. \n",
    "clearscreen()\n",
    "# turtleScreen의 크기를 설정할 수 있습니다. setup(width=픽셀, height=픽셀)\n",
    "setup(500, 500)\n",
    "\n",
    "# 그림을 그려줄 거북이를 생성합니다. \n",
    "t = Turtle()\n",
    "\n",
    "# 거북이의 모양을 바꿔요. \n",
    "t.shape('turtle')\n",
    "\n",
    "for i in range(20):\n",
    "    t.forward(10*i)\n",
    "    t.left(90)\n",
    "\n"
   ]
  },
  {
   "cell_type": "markdown",
   "metadata": {},
   "source": [
    "<div style=\"padding: 15px; border: 5px solid transparent; border-color: transparent; margin-bottom: 20px; border-radius: 4px; color: #8a6d3b;  border-color: #faebcc; font-weight: bold;\">\n",
    "    <div style=\"font-weight: bold; font-size: 20px\">✏️ [연습문제2]</div>\n",
    "    <br>\n",
    "아래와 같은 그림을 그려보세요.\n",
    "</div>"
   ]
  },
  {
   "cell_type": "markdown",
   "metadata": {},
   "source": [
    "<table>\n",
    "<tr>\n",
    "    <th><img src=\"https://tmn-bucket-materials-all.s3.ap-northeast-2.amazonaws.com/image/algo/tp_1_12.png\" width=\"300\"></th>\n",
    "    </tr>\n",
    "<tr>\n",
    "    <th>다양한 다각형</th>\n",
    "</tr>\n",
    "</table>"
   ]
  },
  {
   "cell_type": "code",
   "execution_count": null,
   "metadata": {
    "codle/previous_execution": {
     "code": "# 필요한 turtle 모듈을 가져옵니다. \nimport ColabTurtlePlus\n\n# from ColabTurtlePlus.Turtle import *\n\n# 그림을 그려줄 거북이를 생성합니다. \nclearscreen()\n\nt = Turtle()\n\n# 거북이의 모양을 바꿔요. \nt.shape('turtle')\n\nfor i in range(6):\n    for j in range(6):\n        t.forward(50)\n        t.left(60)\n    t.forward(50)\n    t.right(60)\n\n",
     "id": "3059275"
    },
    "tags": []
   },
   "outputs": [],
   "source": [
    "# 필요한 turtle 모듈을 가져옵니다. \n",
    "import ColabTurtlePlus\n",
    "\n",
    "# from ColabTurtlePlus.Turtle import *\n",
    "\n",
    "# 그림을 그려줄 거북이를 생성합니다. \n",
    "clearscreen()\n",
    "\n",
    "t = Turtle()\n",
    "\n",
    "# 거북이의 모양을 바꿔요. \n",
    "t.shape('turtle')\n",
    "\n",
    "for i in range(6):\n",
    "    for j in range(6):\n",
    "        t.forward(50)\n",
    "        t.left(60)\n",
    "    t.forward(50)\n",
    "    t.right(60)\n",
    "\n"
   ]
  },
  {
   "cell_type": "markdown",
   "metadata": {},
   "source": [
    "<div style=\"padding: 15px; border: 5px solid transparent; border-color: transparent; margin-bottom: 20px; border-radius: 4px; color: #8a6d3b;  border-color: #faebcc; font-weight: bold;\">\n",
    "    <div style=\"font-weight: bold; font-size: 20px\">✏️ [연습문제3]</div>\n",
    "    <br>\n",
    "아래와 같은 그림을 그려보세요.\n",
    "</div>"
   ]
  },
  {
   "cell_type": "markdown",
   "metadata": {},
   "source": [
    "<table>\n",
    "<tr>\n",
    "    <th><img src=\"https://tmn-bucket-materials-all.s3.ap-northeast-2.amazonaws.com/image/algo/tp_1_13.png\" width=\"300\"></th>\n",
    "    </tr>\n",
    "<tr>\n",
    "    <th>다양한 다각형</th>\n",
    "</tr>\n",
    "</table>"
   ]
  },
  {
   "cell_type": "code",
   "execution_count": null,
   "metadata": {
    "codle/previous_execution": {
     "code": "# turtleScreen을 초기 상태(흰색 배경, 배경 이미지 없음)로 설정합니다. \nclearscreen()\n# turtleScreen의 크기를 설정할 수 있습니다. setup(width=픽셀, height=픽셀)\nsetup(500, 500)\n\n# 그림을 그려줄 거북이를 생성합니다. \nt = Turtle()\n\n# 거북이의 모양을 바꿔요. \nt.shape('turtle')\n\n# 거북이의 모양을 바꿔요. \nt.shape('turtle')\n\nfor i in range(6):\n    for i in range(2):\n        t.forward(100)\n        t.left(45)\n        t.forward(100)\n        t.left(135)\n    t.left(60)\n\n",
     "id": "3059279"
    },
    "tags": []
   },
   "outputs": [],
   "source": [
    "# turtleScreen을 초기 상태(흰색 배경, 배경 이미지 없음)로 설정합니다. \n",
    "clearscreen()\n",
    "# turtleScreen의 크기를 설정할 수 있습니다. setup(width=픽셀, height=픽셀)\n",
    "setup(500, 500)\n",
    "\n",
    "# 그림을 그려줄 거북이를 생성합니다. \n",
    "t = Turtle()\n",
    "\n",
    "# 거북이의 모양을 바꿔요. \n",
    "t.shape('turtle')\n",
    "\n",
    "# 거북이의 모양을 바꿔요. \n",
    "t.shape('turtle')\n",
    "\n",
    "for i in range(6):\n",
    "    for i in range(2):\n",
    "        t.forward(100)\n",
    "        t.left(45)\n",
    "        t.forward(100)\n",
    "        t.left(135)\n",
    "    t.left(60)\n",
    "\n"
   ]
  },
  {
   "cell_type": "markdown",
   "metadata": {},
   "source": [
    "<div style=\"padding: 15px; border: 5px solid transparent; border-color: transparent; margin-bottom: 20px; border-radius: 4px; color: #8a6d3b;  border-color: #faebcc; font-weight: bold;\">\n",
    "    <div style=\"font-weight: bold; font-size: 20px\">✏️ [연습문제4]</div>\n",
    "    <br>\n",
    "아래와 같은 그림을 그려보세요.\n",
    "</div>"
   ]
  },
  {
   "cell_type": "markdown",
   "metadata": {},
   "source": [
    "<table>\n",
    "<tr>\n",
    "    <th><img src=\"https://tmn-bucket-materials-all.s3.ap-northeast-2.amazonaws.com/image/algo/tp_1_14.png\" width=\"300\"></th>\n",
    "    </tr>\n",
    "<tr>\n",
    "    <th>다양한 다각형</th>\n",
    "</tr>\n",
    "</table>"
   ]
  },
  {
   "cell_type": "code",
   "execution_count": null,
   "metadata": {
    "codle/previous_execution": {
     "code": "# turtleScreen을 초기 상태(흰색 배경, 배경 이미지 없음)로 설정합니다. \nclearscreen()\n# turtleScreen의 크기를 설정할 수 있습니다. setup(width=픽셀, height=픽셀)\nsetup(500, 500)\n\n# 그림을 그려줄 거북이를 생성합니다. \nt = Turtle()\n\n# 거북이의 모양을 바꿔요. \nt.shape('turtle')\n\n# 1층\nt.penup()\nt.goto(-100, -50)\nt.pendown()\n\nfor i in range(2):\n    t.forward(200)\n    t.left(90)\n    t.forward(50)\n    t.left(90)\n\n# 2층\nt.penup()\nt.goto(-75, 0)\nt.pendown()\n\nfor i in range(2):\n    t.forward(150)\n    t.left(90)\n    t.forward(50)\n    t.left(90)\n\n# 3층\nt.penup()\nt.goto(-50, 50)\nt.pendown()\n\nfor i in range(2):\n    t.forward(100)\n    t.left(90)\n    t.forward(50)\n    t.left(90)\n\n# 마무리\nt.penup()\nt.goto(0, 100)\nt.pendown()\n\nt.left(90)\nt.forward(50)\n",
     "id": "3059282"
    },
    "tags": []
   },
   "outputs": [],
   "source": [
    "# turtleScreen을 초기 상태(흰색 배경, 배경 이미지 없음)로 설정합니다. \n",
    "clearscreen()\n",
    "# turtleScreen의 크기를 설정할 수 있습니다. setup(width=픽셀, height=픽셀)\n",
    "setup(500, 500)\n",
    "\n",
    "# 그림을 그려줄 거북이를 생성합니다. \n",
    "t = Turtle()\n",
    "\n",
    "# 거북이의 모양을 바꿔요. \n",
    "t.shape('turtle')\n",
    "\n",
    "# 1층\n",
    "t.penup()\n",
    "t.goto(-100, -50)\n",
    "t.pendown()\n",
    "\n",
    "for i in range(2):\n",
    "    t.forward(200)\n",
    "    t.left(90)\n",
    "    t.forward(50)\n",
    "    t.left(90)\n",
    "\n",
    "# 2층\n",
    "t.penup()\n",
    "t.goto(-75, 0)\n",
    "t.pendown()\n",
    "\n",
    "for i in range(2):\n",
    "    t.forward(150)\n",
    "    t.left(90)\n",
    "    t.forward(50)\n",
    "    t.left(90)\n",
    "\n",
    "# 3층\n",
    "t.penup()\n",
    "t.goto(-50, 50)\n",
    "t.pendown()\n",
    "\n",
    "for i in range(2):\n",
    "    t.forward(100)\n",
    "    t.left(90)\n",
    "    t.forward(50)\n",
    "    t.left(90)\n",
    "\n",
    "# 마무리\n",
    "t.penup()\n",
    "t.goto(0, 100)\n",
    "t.pendown()\n",
    "\n",
    "t.left(90)\n",
    "t.forward(50)\n"
   ]
  }
 ],
 "metadata": {
  "colab": {
   "provenance": []
  },
  "kernelspec": {
   "display_name": "Python 3 (ipykernel)",
   "language": "python",
   "name": "python3"
  },
  "language_info": {
   "codemirror_mode": {
    "name": "ipython",
    "version": 3
   },
   "file_extension": ".py",
   "mimetype": "text/x-python",
   "name": "python",
   "nbconvert_exporter": "python",
   "pygments_lexer": "ipython3",
   "version": "3.10.13"
  },
  "read_only": true,
  "vscode": {
   "interpreter": {
    "hash": "8c352b738e5f22da9f29eb9cb9994f25c5223ab3395af3650b8321ab644afce4"
   }
  }
 },
 "nbformat": 4,
 "nbformat_minor": 4
}
